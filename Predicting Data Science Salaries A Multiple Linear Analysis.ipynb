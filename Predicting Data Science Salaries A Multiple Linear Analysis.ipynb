{
 "cells": [
  {
   "cell_type": "code",
   "execution_count": 209,
   "id": "e559212f",
   "metadata": {},
   "outputs": [],
   "source": [
    "import numpy as np\n",
    "import pandas as pd\n",
    "import seaborn as sns\n",
    "import matplotlib.pyplot as plt\n",
    "%matplotlib inline\n",
    "import statsmodels.api as sm\n",
    "import warnings\n",
    "warnings.filterwarnings('ignore')"
   ]
  },
  {
   "cell_type": "code",
   "execution_count": 210,
   "id": "53484cfa",
   "metadata": {},
   "outputs": [],
   "source": [
    "from sklearn.model_selection import train_test_split\n",
    "\n",
    "from sklearn.metrics import mean_absolute_error, r2_score\n",
    "from sklearn.pipeline import Pipeline\n",
    "from sklearn.preprocessing import OrdinalEncoder, OneHotEncoder, StandardScaler\n",
    "from sklearn.impute import SimpleImputer\n",
    "from sklearn.compose import ColumnTransformer"
   ]
  },
  {
   "cell_type": "markdown",
   "id": "ed056fa6",
   "metadata": {},
   "source": [
    "# Problem statement\n",
    "As a talent acquistion manager, I am conducting a research on salaries of people working in domain of data science. Several independent variables can affect the salaries, including comapny size, location,job titles and experience level.I conducted a multiple linear analysis to predict a future salaries under a scenario of the coefficient values of these variables changing."
   ]
  },
  {
   "cell_type": "markdown",
   "id": "71e4cd73",
   "metadata": {},
   "source": [
    "# LOAD AND CLEAN THE DATASET\n"
   ]
  },
  {
   "cell_type": "markdown",
   "id": "aaf30121",
   "metadata": {},
   "source": [
    "The dataset is about the salaries in data science job. The dataset contains 3756 rows and 11 columns. \n",
    "\n",
    "The details of columns are as follows:\n",
    "\n",
    "\n",
    "*work_year=The year in which salary is paid(2021,2022,2023)*\n",
    "\n",
    "*experience_level=The position held in job (SE=senior level,MI=medium level,EX=executive level,EN=Entry level)*\n",
    "\n",
    "*employment_type= The type of employment(FT=full time,CT=contract,FL=freelance,PT=part time)*\n",
    "\n",
    "*job_title=The job role of individual*\n",
    "\n",
    "*salary=Total gross salary paid*\n",
    "\n",
    "*salary_currency=The currency of salary paid*\n",
    "\n",
    "*salary_in_usd=The salary converted into USD*\n",
    "\n",
    "*employee_residence=The country of residence of individuals during that year*\n",
    "\n",
    "*remote_ratio=The amount of work done remotely*\n",
    "\n",
    "*company_location=The country of company's location*\n",
    "\n",
    "*company_size=The size on basis on n=median number of people who worked in company(S=small,M=medium,L=large)*\n",
    "\n"
   ]
  },
  {
   "cell_type": "code",
   "execution_count": null,
   "id": "b018fb49",
   "metadata": {},
   "outputs": [],
   "source": [
    "The link of the dataset :"
   ]
  },
  {
   "cell_type": "code",
   "execution_count": 211,
   "id": "6e5235a4",
   "metadata": {},
   "outputs": [
    {
     "data": {
      "text/html": [
       "<div>\n",
       "<style scoped>\n",
       "    .dataframe tbody tr th:only-of-type {\n",
       "        vertical-align: middle;\n",
       "    }\n",
       "\n",
       "    .dataframe tbody tr th {\n",
       "        vertical-align: top;\n",
       "    }\n",
       "\n",
       "    .dataframe thead th {\n",
       "        text-align: right;\n",
       "    }\n",
       "</style>\n",
       "<table border=\"1\" class=\"dataframe\">\n",
       "  <thead>\n",
       "    <tr style=\"text-align: right;\">\n",
       "      <th></th>\n",
       "      <th>work_year</th>\n",
       "      <th>experience_level</th>\n",
       "      <th>employment_type</th>\n",
       "      <th>job_title</th>\n",
       "      <th>salary</th>\n",
       "      <th>salary_currency</th>\n",
       "      <th>salary_in_usd</th>\n",
       "      <th>employee_residence</th>\n",
       "      <th>remote_ratio</th>\n",
       "      <th>company_location</th>\n",
       "      <th>company_size</th>\n",
       "    </tr>\n",
       "  </thead>\n",
       "  <tbody>\n",
       "    <tr>\n",
       "      <th>0</th>\n",
       "      <td>2023</td>\n",
       "      <td>SE</td>\n",
       "      <td>FT</td>\n",
       "      <td>Principal Data Scientist</td>\n",
       "      <td>80000</td>\n",
       "      <td>EUR</td>\n",
       "      <td>85847</td>\n",
       "      <td>ES</td>\n",
       "      <td>100</td>\n",
       "      <td>ES</td>\n",
       "      <td>L</td>\n",
       "    </tr>\n",
       "    <tr>\n",
       "      <th>1</th>\n",
       "      <td>2023</td>\n",
       "      <td>MI</td>\n",
       "      <td>CT</td>\n",
       "      <td>ML Engineer</td>\n",
       "      <td>30000</td>\n",
       "      <td>USD</td>\n",
       "      <td>30000</td>\n",
       "      <td>US</td>\n",
       "      <td>100</td>\n",
       "      <td>US</td>\n",
       "      <td>S</td>\n",
       "    </tr>\n",
       "    <tr>\n",
       "      <th>2</th>\n",
       "      <td>2023</td>\n",
       "      <td>MI</td>\n",
       "      <td>CT</td>\n",
       "      <td>ML Engineer</td>\n",
       "      <td>25500</td>\n",
       "      <td>USD</td>\n",
       "      <td>25500</td>\n",
       "      <td>US</td>\n",
       "      <td>100</td>\n",
       "      <td>US</td>\n",
       "      <td>S</td>\n",
       "    </tr>\n",
       "    <tr>\n",
       "      <th>3</th>\n",
       "      <td>2023</td>\n",
       "      <td>SE</td>\n",
       "      <td>FT</td>\n",
       "      <td>Data Scientist</td>\n",
       "      <td>175000</td>\n",
       "      <td>USD</td>\n",
       "      <td>175000</td>\n",
       "      <td>CA</td>\n",
       "      <td>100</td>\n",
       "      <td>CA</td>\n",
       "      <td>M</td>\n",
       "    </tr>\n",
       "    <tr>\n",
       "      <th>4</th>\n",
       "      <td>2023</td>\n",
       "      <td>SE</td>\n",
       "      <td>FT</td>\n",
       "      <td>Data Scientist</td>\n",
       "      <td>120000</td>\n",
       "      <td>USD</td>\n",
       "      <td>120000</td>\n",
       "      <td>CA</td>\n",
       "      <td>100</td>\n",
       "      <td>CA</td>\n",
       "      <td>M</td>\n",
       "    </tr>\n",
       "  </tbody>\n",
       "</table>\n",
       "</div>"
      ],
      "text/plain": [
       "   work_year experience_level employment_type                 job_title  \\\n",
       "0       2023               SE              FT  Principal Data Scientist   \n",
       "1       2023               MI              CT               ML Engineer   \n",
       "2       2023               MI              CT               ML Engineer   \n",
       "3       2023               SE              FT            Data Scientist   \n",
       "4       2023               SE              FT            Data Scientist   \n",
       "\n",
       "   salary salary_currency  salary_in_usd employee_residence  remote_ratio  \\\n",
       "0   80000             EUR          85847                 ES           100   \n",
       "1   30000             USD          30000                 US           100   \n",
       "2   25500             USD          25500                 US           100   \n",
       "3  175000             USD         175000                 CA           100   \n",
       "4  120000             USD         120000                 CA           100   \n",
       "\n",
       "  company_location company_size  \n",
       "0               ES            L  \n",
       "1               US            S  \n",
       "2               US            S  \n",
       "3               CA            M  \n",
       "4               CA            M  "
      ]
     },
     "execution_count": 211,
     "metadata": {},
     "output_type": "execute_result"
    }
   ],
   "source": [
    "#Load the dataset\n",
    "Data= pd.read_csv('C:/Users/Dell/Downloads/practical-workshops-aditianand0308/portfolio-aditianand0308/ds_salaries.CSV')\n",
    "Data.head()"
   ]
  },
  {
   "cell_type": "code",
   "execution_count": 212,
   "id": "bffb2760",
   "metadata": {},
   "outputs": [
    {
     "data": {
      "text/plain": [
       "(3755, 11)"
      ]
     },
     "execution_count": 212,
     "metadata": {},
     "output_type": "execute_result"
    }
   ],
   "source": [
    "#Shape of data gives the rows and coloumns in the dataset\n",
    "Data.shape"
   ]
  },
  {
   "cell_type": "code",
   "execution_count": 213,
   "id": "dd779c0c",
   "metadata": {},
   "outputs": [
    {
     "data": {
      "text/plain": [
       "Index(['work_year', 'experience_level', 'employment_type', 'job_title',\n",
       "       'salary', 'salary_currency', 'salary_in_usd', 'employee_residence',\n",
       "       'remote_ratio', 'company_location', 'company_size'],\n",
       "      dtype='object')"
      ]
     },
     "execution_count": 213,
     "metadata": {},
     "output_type": "execute_result"
    }
   ],
   "source": [
    "#Unique features in the dataset\n",
    "Data.columns"
   ]
  },
  {
   "cell_type": "code",
   "execution_count": 214,
   "id": "84ffc89e",
   "metadata": {},
   "outputs": [
    {
     "data": {
      "text/plain": [
       "work_year             0\n",
       "experience_level      0\n",
       "employment_type       0\n",
       "job_title             0\n",
       "salary                0\n",
       "salary_currency       0\n",
       "salary_in_usd         0\n",
       "employee_residence    0\n",
       "remote_ratio          0\n",
       "company_location      0\n",
       "company_size          0\n",
       "dtype: int64"
      ]
     },
     "execution_count": 214,
     "metadata": {},
     "output_type": "execute_result"
    }
   ],
   "source": [
    "#Sum of the number of missing values\n",
    "Data.isna().sum()"
   ]
  },
  {
   "cell_type": "markdown",
   "id": "a1aeb0b0",
   "metadata": {},
   "source": [
    "It can be concluded that there are no missing values in the dataset"
   ]
  },
  {
   "cell_type": "code",
   "execution_count": 215,
   "id": "f63a8593",
   "metadata": {},
   "outputs": [
    {
     "data": {
      "text/plain": [
       "work_year                4\n",
       "experience_level         4\n",
       "employment_type          4\n",
       "job_title               93\n",
       "salary                 815\n",
       "salary_currency         20\n",
       "salary_in_usd         1035\n",
       "employee_residence      78\n",
       "remote_ratio             3\n",
       "company_location        72\n",
       "company_size             3\n",
       "dtype: int64"
      ]
     },
     "execution_count": 215,
     "metadata": {},
     "output_type": "execute_result"
    }
   ],
   "source": [
    "#Number of unique values for each feature\n",
    "features = Data.columns\n",
    "Data[features].nunique()"
   ]
  },
  {
   "cell_type": "markdown",
   "id": "dbe5cbbb",
   "metadata": {},
   "source": [
    "It showed us the number of unique values in each variable"
   ]
  },
  {
   "cell_type": "code",
   "execution_count": 216,
   "id": "aa55d109",
   "metadata": {},
   "outputs": [
    {
     "data": {
      "text/html": [
       "<div>\n",
       "<style scoped>\n",
       "    .dataframe tbody tr th:only-of-type {\n",
       "        vertical-align: middle;\n",
       "    }\n",
       "\n",
       "    .dataframe tbody tr th {\n",
       "        vertical-align: top;\n",
       "    }\n",
       "\n",
       "    .dataframe thead th {\n",
       "        text-align: right;\n",
       "    }\n",
       "</style>\n",
       "<table border=\"1\" class=\"dataframe\">\n",
       "  <thead>\n",
       "    <tr style=\"text-align: right;\">\n",
       "      <th></th>\n",
       "      <th>work_year</th>\n",
       "      <th>salary</th>\n",
       "      <th>salary_in_usd</th>\n",
       "      <th>remote_ratio</th>\n",
       "    </tr>\n",
       "  </thead>\n",
       "  <tbody>\n",
       "    <tr>\n",
       "      <th>count</th>\n",
       "      <td>3755.000000</td>\n",
       "      <td>3.755000e+03</td>\n",
       "      <td>3755.000000</td>\n",
       "      <td>3755.000000</td>\n",
       "    </tr>\n",
       "    <tr>\n",
       "      <th>mean</th>\n",
       "      <td>2022.373635</td>\n",
       "      <td>1.906956e+05</td>\n",
       "      <td>137570.389880</td>\n",
       "      <td>46.271638</td>\n",
       "    </tr>\n",
       "    <tr>\n",
       "      <th>std</th>\n",
       "      <td>0.691448</td>\n",
       "      <td>6.716765e+05</td>\n",
       "      <td>63055.625278</td>\n",
       "      <td>48.589050</td>\n",
       "    </tr>\n",
       "    <tr>\n",
       "      <th>min</th>\n",
       "      <td>2020.000000</td>\n",
       "      <td>6.000000e+03</td>\n",
       "      <td>5132.000000</td>\n",
       "      <td>0.000000</td>\n",
       "    </tr>\n",
       "    <tr>\n",
       "      <th>25%</th>\n",
       "      <td>2022.000000</td>\n",
       "      <td>1.000000e+05</td>\n",
       "      <td>95000.000000</td>\n",
       "      <td>0.000000</td>\n",
       "    </tr>\n",
       "    <tr>\n",
       "      <th>50%</th>\n",
       "      <td>2022.000000</td>\n",
       "      <td>1.380000e+05</td>\n",
       "      <td>135000.000000</td>\n",
       "      <td>0.000000</td>\n",
       "    </tr>\n",
       "    <tr>\n",
       "      <th>75%</th>\n",
       "      <td>2023.000000</td>\n",
       "      <td>1.800000e+05</td>\n",
       "      <td>175000.000000</td>\n",
       "      <td>100.000000</td>\n",
       "    </tr>\n",
       "    <tr>\n",
       "      <th>max</th>\n",
       "      <td>2023.000000</td>\n",
       "      <td>3.040000e+07</td>\n",
       "      <td>450000.000000</td>\n",
       "      <td>100.000000</td>\n",
       "    </tr>\n",
       "  </tbody>\n",
       "</table>\n",
       "</div>"
      ],
      "text/plain": [
       "         work_year        salary  salary_in_usd  remote_ratio\n",
       "count  3755.000000  3.755000e+03    3755.000000   3755.000000\n",
       "mean   2022.373635  1.906956e+05  137570.389880     46.271638\n",
       "std       0.691448  6.716765e+05   63055.625278     48.589050\n",
       "min    2020.000000  6.000000e+03    5132.000000      0.000000\n",
       "25%    2022.000000  1.000000e+05   95000.000000      0.000000\n",
       "50%    2022.000000  1.380000e+05  135000.000000      0.000000\n",
       "75%    2023.000000  1.800000e+05  175000.000000    100.000000\n",
       "max    2023.000000  3.040000e+07  450000.000000    100.000000"
      ]
     },
     "execution_count": 216,
     "metadata": {},
     "output_type": "execute_result"
    }
   ],
   "source": [
    "#Summary statistics of each column in dataframe\n",
    "Data.describe()"
   ]
  },
  {
   "cell_type": "code",
   "execution_count": 217,
   "id": "b04130cd",
   "metadata": {},
   "outputs": [
    {
     "data": {
      "text/plain": [
       "1171"
      ]
     },
     "execution_count": 217,
     "metadata": {},
     "output_type": "execute_result"
    }
   ],
   "source": [
    "# check for duplicates\n",
    "Data.duplicated().sum()"
   ]
  },
  {
   "cell_type": "code",
   "execution_count": 218,
   "id": "1254e3a9",
   "metadata": {},
   "outputs": [
    {
     "data": {
      "text/plain": [
       "Data Engineer                          1040\n",
       "Data Scientist                          840\n",
       "Data Analyst                            612\n",
       "Machine Learning Engineer               289\n",
       "Analytics Engineer                      103\n",
       "                                       ... \n",
       "Principal Machine Learning Engineer       1\n",
       "Azure Data Engineer                       1\n",
       "Manager Data Management                   1\n",
       "Marketing Data Engineer                   1\n",
       "Finance Data Analyst                      1\n",
       "Name: job_title, Length: 93, dtype: int64"
      ]
     },
     "execution_count": 218,
     "metadata": {},
     "output_type": "execute_result"
    }
   ],
   "source": [
    "category_counts=Data[\"job_title\"].value_counts()\n",
    "category_counts"
   ]
  },
  {
   "cell_type": "markdown",
   "id": "cb6eaf58",
   "metadata": {},
   "source": [
    "It shows the number of employess in each job title with maximum people working as data engineer followed by data scientist and data analyst"
   ]
  },
  {
   "cell_type": "code",
   "execution_count": 219,
   "id": "eb1b3155",
   "metadata": {},
   "outputs": [],
   "source": [
    "#Replacing the short forms with full forms for better understanding\n",
    "Data['employment_type'] = Data['employment_type'].replace({\n",
    "    'FL': 'Freelancer',\n",
    "    'CT': 'Contractor',\n",
    "    'FT' : 'Full-time',\n",
    "    'PT' : 'Part-time'\n",
    "})\n",
    "Data['company_size'] = Data['company_size'].replace({\n",
    "    'S': 'SMALL',\n",
    "    'M': 'MEDIUM',\n",
    "    'L' : 'LARGE',\n",
    "})\n",
    "\n",
    "Data['experience_level'] = Data['experience_level'].replace({\n",
    "    'SE': 'Senior',\n",
    "    'EN': 'Entry level',\n",
    "    'EX': 'Executive level',\n",
    "    'MI': 'Mid/Intermediate level',\n",
    "})\n"
   ]
  },
  {
   "cell_type": "code",
   "execution_count": 220,
   "id": "e07d4e03",
   "metadata": {},
   "outputs": [
    {
     "data": {
      "image/png": "[encoded data removed]",
      "text/plain": [
       "<Figure size 1584x288 with 1 Axes>"
      ]
     },
     "metadata": {
      "needs_background": "light"
     },
     "output_type": "display_data"
    }
   ],
   "source": [
    "#Boxplot for the salary variable\n",
    "plt.figure(figsize=[22,4])\n",
    "sns.histplot(x = 'salary_in_usd', data = Data,color='green')\n",
    "plt.title('Boxplot for salary Variable')\n",
    "plt.show()"
   ]
  },
  {
   "cell_type": "markdown",
   "id": "a295b234",
   "metadata": {},
   "source": [
    "The histogram is right skewed.The boxplot of salary in USD has multiple outliers but the salaries are different for different job types, location and experience level.Hence removal of these outliers would give a biased result."
   ]
  },
  {
   "cell_type": "code",
   "execution_count": 221,
   "id": "76b0d9f3",
   "metadata": {},
   "outputs": [
    {
     "data": {
      "text/plain": [
       "<AxesSubplot:ylabel='salary_in_usd'>"
      ]
     },
     "execution_count": 221,
     "metadata": {},
     "output_type": "execute_result"
    },
    {
     "data": {
      "image/png": "[encoded data removed]",
      "text/plain": [
       "<Figure size 432x288 with 1 Axes>"
      ]
     },
     "metadata": {},
     "output_type": "display_data"
    }
   ],
   "source": [
    "Data.groupby(['company_size']).sum().plot(\n",
    "    kind='pie', y='salary_in_usd')"
   ]
  },
  {
   "cell_type": "markdown",
   "id": "e6002e17",
   "metadata": {},
   "source": [
    "The pie chart shows that the medium size companies pays highest salaries to its employees followed by large and small."
   ]
  },
  {
   "cell_type": "code",
   "execution_count": 222,
   "id": "2f7bfa4c",
   "metadata": {},
   "outputs": [
    {
     "data": {
      "image/png": "[encoded data removed]",
      "text/plain": [
       "<Figure size 720x432 with 1 Axes>"
      ]
     },
     "metadata": {
      "needs_background": "light"
     },
     "output_type": "display_data"
    }
   ],
   "source": [
    "# Salary distribution across different employment types\n",
    "plt.figure(figsize=(10, 6))\n",
    "sns.barplot(data=Data, x='experience_level', y='salary_in_usd')\n",
    "plt.title('Salary Distribution Across Different Employmen')\n",
    "plt.xlabel('Employment Type')\n",
    "plt.ylabel('Salary')\n",
    "plt.show()"
   ]
  },
  {
   "cell_type": "markdown",
   "id": "5afbe716",
   "metadata": {},
   "source": [
    "It can be seen from the graph that the salaries for the employees at executive level is the highest followed by senior and intermediate level. Thus, it can be concluded that as you go up the ladder in the organisation the salaries tends to increase."
   ]
  },
  {
   "cell_type": "code",
   "execution_count": 223,
   "id": "beb4df26",
   "metadata": {},
   "outputs": [
    {
     "data": {
      "image/png": "[encoded data removed]",
      "text/plain": [
       "<Figure size 720x432 with 1 Axes>"
      ]
     },
     "metadata": {
      "needs_background": "light"
     },
     "output_type": "display_data"
    }
   ],
   "source": [
    "# Salary distribution across different employment types\n",
    "plt.figure(figsize=(10, 6))\n",
    "sns.boxplot(data=Data, x='employment_type', y='salary_in_usd')\n",
    "plt.title('Salary Distribution Across Different Employment Types')\n",
    "plt.xlabel('Employment Type')\n",
    "plt.ylabel('Salary')\n",
    "plt.show()"
   ]
  },
  {
   "cell_type": "markdown",
   "id": "1d0bd0da",
   "metadata": {},
   "source": [
    "The salary distribution across the employment types is highest among people who work full time followed by Contractual work. There are multiple outliers in the plot but the salaries can be higher in different cases. Therefore, removal of these outliers can create a bias in data."
   ]
  },
  {
   "cell_type": "code",
   "execution_count": 224,
   "id": "51d843a0",
   "metadata": {},
   "outputs": [
    {
     "data": {
      "text/plain": [
       "Text(0.5, 1.0, 'Correlation Heat Map - Spearman Coeff')"
      ]
     },
     "execution_count": 224,
     "metadata": {},
     "output_type": "execute_result"
    },
    {
     "data": {
      "image/png": "[encoded data removed]",
      "text/plain": [
       "<Figure size 720x720 with 2 Axes>"
      ]
     },
     "metadata": {
      "needs_background": "light"
     },
     "output_type": "display_data"
    }
   ],
   "source": [
    "#plot a heatmap to filter out the features as input to logistic regression\n",
    "plt.figure(figsize = (10, 10))\n",
    "sns.heatmap(Data.corr('spearman'), annot = True, fmt = \".2F\")\n",
    "plt.title(\"Correlation Heat Map - Spearman Coeff\")"
   ]
  },
  {
   "cell_type": "markdown",
   "id": "36efcf24",
   "metadata": {},
   "source": [
    "There is a positive correlation between salary_in_usd and work_year. It could mean that there is an increase in salaries in data science roles every year."
   ]
  },
  {
   "cell_type": "code",
   "execution_count": 225,
   "id": "ff8bf59a",
   "metadata": {},
   "outputs": [],
   "source": [
    "# Create a copy of data\n",
    "Model_data = Data.copy()\n"
   ]
  },
  {
   "cell_type": "code",
   "execution_count": 226,
   "id": "c6904b48",
   "metadata": {},
   "outputs": [
    {
     "data": {
      "text/plain": [
       "Data Engineer                          1040\n",
       "Data Scientist                          840\n",
       "Data Analyst                            612\n",
       "Machine Learning Engineer               289\n",
       "Analytics Engineer                      103\n",
       "                                       ... \n",
       "Principal Machine Learning Engineer       1\n",
       "Azure Data Engineer                       1\n",
       "Manager Data Management                   1\n",
       "Marketing Data Engineer                   1\n",
       "Finance Data Analyst                      1\n",
       "Name: job_title, Length: 93, dtype: int64"
      ]
     },
     "execution_count": 226,
     "metadata": {},
     "output_type": "execute_result"
    }
   ],
   "source": [
    "#Job title wise distribution of employees\n",
    "Model_data[\"job_title\"].value_counts()"
   ]
  },
  {
   "cell_type": "code",
   "execution_count": 227,
   "id": "228753c8",
   "metadata": {},
   "outputs": [],
   "source": [
    "#Limiting the number of variables in job title feature\n",
    "def map_job_title(job_title):\n",
    "    if job_title in [\"Data Engineer\", \"Data Scientist\", \"Data Analyst\", \"Machine Learning Engineer\"]:\n",
    "        return job_title\n",
    "    else:\n",
    "        return \"Other\"\n",
    "\n",
    "Model_data[\"new_job_title\"] = Model_data[\"job_title\"].apply(map_job_title)"
   ]
  },
  {
   "cell_type": "code",
   "execution_count": 228,
   "id": "0632cca3",
   "metadata": {},
   "outputs": [
    {
     "data": {
      "text/plain": [
       "Data Engineer                1040\n",
       "Other                         974\n",
       "Data Scientist                840\n",
       "Data Analyst                  612\n",
       "Machine Learning Engineer     289\n",
       "Name: new_job_title, dtype: int64"
      ]
     },
     "execution_count": 228,
     "metadata": {},
     "output_type": "execute_result"
    }
   ],
   "source": [
    "# new Job title wise distribution\n",
    "Model_data[\"new_job_title\"].value_counts()"
   ]
  },
  {
   "cell_type": "code",
   "execution_count": 229,
   "id": "1bb53447",
   "metadata": {},
   "outputs": [
    {
     "data": {
      "text/plain": [
       "US    3040\n",
       "GB     172\n",
       "CA      87\n",
       "ES      77\n",
       "IN      58\n",
       "      ... \n",
       "MK       1\n",
       "BS       1\n",
       "IR       1\n",
       "CR       1\n",
       "MT       1\n",
       "Name: company_location, Length: 72, dtype: int64"
      ]
     },
     "execution_count": 229,
     "metadata": {},
     "output_type": "execute_result"
    }
   ],
   "source": [
    "# company location wise distribution\n",
    "Model_data[\"company_location\"].value_counts()"
   ]
  },
  {
   "cell_type": "code",
   "execution_count": 230,
   "id": "826357e8",
   "metadata": {},
   "outputs": [
    {
     "data": {
      "text/plain": [
       "US    3040\n",
       "GB     172\n",
       "CA      87\n",
       "ES      77\n",
       "IN      58\n",
       "      ... \n",
       "MK       1\n",
       "BS       1\n",
       "IR       1\n",
       "CR       1\n",
       "MT       1\n",
       "Name: company_location_US, Length: 72, dtype: int64"
      ]
     },
     "execution_count": 230,
     "metadata": {},
     "output_type": "execute_result"
    }
   ],
   "source": [
    "Data[\"company_location\"] = np.where(Data[\"company_location\"] == \"US\", 1,0)\n",
    "Model_data.rename(columns={\"company_location\" : \"company_location_US\"}, inplace=True)\n",
    "Model_data[\"company_location_US\"].value_counts()"
   ]
  },
  {
   "cell_type": "code",
   "execution_count": 231,
   "id": "0b408bd2",
   "metadata": {},
   "outputs": [
    {
     "data": {
      "text/plain": [
       "US    3004\n",
       "GB     167\n",
       "CA      85\n",
       "ES      80\n",
       "IN      71\n",
       "      ... \n",
       "BA       1\n",
       "AM       1\n",
       "CY       1\n",
       "KW       1\n",
       "MT       1\n",
       "Name: employee_residence, Length: 78, dtype: int64"
      ]
     },
     "execution_count": 231,
     "metadata": {},
     "output_type": "execute_result"
    }
   ],
   "source": [
    "# employee residence count\n",
    "Model_data[\"employee_residence\"].value_counts()"
   ]
  },
  {
   "cell_type": "code",
   "execution_count": 232,
   "id": "c6c73067",
   "metadata": {},
   "outputs": [
    {
     "data": {
      "text/plain": [
       "1    3004\n",
       "0     751\n",
       "Name: employee_residence_US, dtype: int64"
      ]
     },
     "execution_count": 232,
     "metadata": {},
     "output_type": "execute_result"
    }
   ],
   "source": [
    "#Number of employees residing in US and other countries where 1 is US residents and 0 is other country residents\n",
    "Model_data[\"employee_residence\"] = np.where(Data[\"employee_residence\"]==\"US\", 1,0)\n",
    "Model_data.rename(columns={\"employee_residence\" : \"employee_residence_US\"}, inplace=True)\n",
    "Model_data[\"employee_residence_US\"].value_counts()"
   ]
  },
  {
   "cell_type": "code",
   "execution_count": 233,
   "id": "1f5f43a9",
   "metadata": {},
   "outputs": [
    {
     "data": {
      "text/html": [
       "<div>\n",
       "<style scoped>\n",
       "    .dataframe tbody tr th:only-of-type {\n",
       "        vertical-align: middle;\n",
       "    }\n",
       "\n",
       "    .dataframe tbody tr th {\n",
       "        vertical-align: top;\n",
       "    }\n",
       "\n",
       "    .dataframe thead th {\n",
       "        text-align: right;\n",
       "    }\n",
       "</style>\n",
       "<table border=\"1\" class=\"dataframe\">\n",
       "  <thead>\n",
       "    <tr style=\"text-align: right;\">\n",
       "      <th></th>\n",
       "      <th>work_year</th>\n",
       "      <th>experience_level</th>\n",
       "      <th>employment_type</th>\n",
       "      <th>employee_residence_US</th>\n",
       "      <th>remote_ratio</th>\n",
       "      <th>company_location_US</th>\n",
       "      <th>company_size</th>\n",
       "      <th>new_job_title</th>\n",
       "    </tr>\n",
       "  </thead>\n",
       "  <tbody>\n",
       "    <tr>\n",
       "      <th>0</th>\n",
       "      <td>2023</td>\n",
       "      <td>Senior</td>\n",
       "      <td>Full-time</td>\n",
       "      <td>0</td>\n",
       "      <td>100</td>\n",
       "      <td>ES</td>\n",
       "      <td>LARGE</td>\n",
       "      <td>Other</td>\n",
       "    </tr>\n",
       "    <tr>\n",
       "      <th>1</th>\n",
       "      <td>2023</td>\n",
       "      <td>Mid/Intermediate level</td>\n",
       "      <td>Contractor</td>\n",
       "      <td>1</td>\n",
       "      <td>100</td>\n",
       "      <td>US</td>\n",
       "      <td>SMALL</td>\n",
       "      <td>Other</td>\n",
       "    </tr>\n",
       "    <tr>\n",
       "      <th>2</th>\n",
       "      <td>2023</td>\n",
       "      <td>Mid/Intermediate level</td>\n",
       "      <td>Contractor</td>\n",
       "      <td>1</td>\n",
       "      <td>100</td>\n",
       "      <td>US</td>\n",
       "      <td>SMALL</td>\n",
       "      <td>Other</td>\n",
       "    </tr>\n",
       "    <tr>\n",
       "      <th>3</th>\n",
       "      <td>2023</td>\n",
       "      <td>Senior</td>\n",
       "      <td>Full-time</td>\n",
       "      <td>0</td>\n",
       "      <td>100</td>\n",
       "      <td>CA</td>\n",
       "      <td>MEDIUM</td>\n",
       "      <td>Data Scientist</td>\n",
       "    </tr>\n",
       "    <tr>\n",
       "      <th>4</th>\n",
       "      <td>2023</td>\n",
       "      <td>Senior</td>\n",
       "      <td>Full-time</td>\n",
       "      <td>0</td>\n",
       "      <td>100</td>\n",
       "      <td>CA</td>\n",
       "      <td>MEDIUM</td>\n",
       "      <td>Data Scientist</td>\n",
       "    </tr>\n",
       "  </tbody>\n",
       "</table>\n",
       "</div>"
      ],
      "text/plain": [
       "   work_year        experience_level employment_type  employee_residence_US  \\\n",
       "0       2023                  Senior       Full-time                      0   \n",
       "1       2023  Mid/Intermediate level      Contractor                      1   \n",
       "2       2023  Mid/Intermediate level      Contractor                      1   \n",
       "3       2023                  Senior       Full-time                      0   \n",
       "4       2023                  Senior       Full-time                      0   \n",
       "\n",
       "   remote_ratio company_location_US company_size   new_job_title  \n",
       "0           100                  ES        LARGE           Other  \n",
       "1           100                  US        SMALL           Other  \n",
       "2           100                  US        SMALL           Other  \n",
       "3           100                  CA       MEDIUM  Data Scientist  \n",
       "4           100                  CA       MEDIUM  Data Scientist  "
      ]
     },
     "execution_count": 233,
     "metadata": {},
     "output_type": "execute_result"
    }
   ],
   "source": [
    "# X Input for models\n",
    "features = [\"work_year\", \"experience_level\", \"employment_type\", \"employee_residence_US\", \"remote_ratio\",\n",
    "           \"company_location_US\", \"company_size\", \"new_job_title\"]\n",
    "X = Model_data[features]\n",
    "X.head()"
   ]
  },
  {
   "cell_type": "code",
   "execution_count": 234,
   "id": "9e0ea45d",
   "metadata": {},
   "outputs": [],
   "source": [
    "# Y input for model\n",
    "y = Model_data.salary_in_usd"
   ]
  },
  {
   "cell_type": "code",
   "execution_count": 235,
   "id": "16b2321c",
   "metadata": {},
   "outputs": [],
   "source": [
    "# split the data into train and test\n",
    "X_train, X_test, y_train, y_test = train_test_split(X,y, train_size=0.8, random_state=42)"
   ]
  },
  {
   "cell_type": "code",
   "execution_count": 236,
   "id": "09c54025",
   "metadata": {},
   "outputs": [
    {
     "data": {
      "text/plain": [
       "Index(['experience_level', 'employment_type', 'company_location_US',\n",
       "       'company_size', 'new_job_title'],\n",
       "      dtype='object')"
      ]
     },
     "execution_count": 236,
     "metadata": {},
     "output_type": "execute_result"
    }
   ],
   "source": [
    "# select categorical columns\n",
    "categorical_cols = Model_data.select_dtypes(include=[\"object\", \"category\"]).columns\n",
    "categorical_cols = categorical_cols.drop([\"salary_currency\", \"job_title\"])\n",
    "categorical_cols"
   ]
  },
  {
   "cell_type": "code",
   "execution_count": 237,
   "id": "7fc06724",
   "metadata": {},
   "outputs": [
    {
     "data": {
      "text/plain": [
       "Index(['work_year', 'employee_residence_US', 'remote_ratio'], dtype='object')"
      ]
     },
     "execution_count": 237,
     "metadata": {},
     "output_type": "execute_result"
    }
   ],
   "source": [
    "# select numerical columns\n",
    "numerical_cols = Model_data.select_dtypes(include=[\"float\", \"int\"]).columns\n",
    "numerical_cols = numerical_cols.drop([\"salary\", \"salary_in_usd\"])\n",
    "numerical_cols"
   ]
  },
  {
   "cell_type": "code",
   "execution_count": 238,
   "id": "0860b782",
   "metadata": {},
   "outputs": [],
   "source": [
    "# preprocessing steps for numerical data\n",
    "numerical_data = SimpleImputer(strategy=\"median\")  \n",
    "\n",
    "# prepoccesing steps for categorical data\n",
    "categorical_data = Pipeline(steps=[\n",
    "    (\"imputer\", SimpleImputer(strategy=\"most_frequent\")),\n",
    "    (\"hotencoder\", OneHotEncoder(handle_unknown=\"ignore\"))])\n",
    "\n",
    "# combine both hte numberical and categorical data\n",
    "input_value = ColumnTransformer(transformers=[\n",
    "    (\"num\", numerical_data, numerical_cols),\n",
    "    (\"cat\", categorical_data, categorical_cols)])\n"
   ]
  },
  {
   "cell_type": "markdown",
   "id": "a554b5ac",
   "metadata": {},
   "source": [
    "Multiple regression helps to determine a relationship between dependent variable(\"salary_in_usd\") and independent variables(\"work_year\", \"experience_level\", \"employment_type\", \"employee_residence_US\", \"remote_ratio\",\n",
    "           \"company_location_US\", \"company_size\", \"new_job_title\")"
   ]
  },
  {
   "cell_type": "code",
   "execution_count": 239,
   "id": "f5e729db",
   "metadata": {},
   "outputs": [],
   "source": [
    "#Used multiple regression \n",
    "from sklearn.linear_model import LinearRegression\n",
    " \n",
    "# define model for multiple regression\n",
    "lr_model = LinearRegression()"
   ]
  },
  {
   "cell_type": "code",
   "execution_count": 240,
   "id": "c4efb4ac",
   "metadata": {},
   "outputs": [
    {
     "name": "stdout",
     "output_type": "stream",
     "text": [
      "MAE Linear Regression of training data:  35861.15987339047\n",
      "MAE Linear Regression:  37433.35112028607\n",
      "r2 Linear Regression:  0.3932531564203602\n"
     ]
    }
   ],
   "source": [
    "# build the pipeline\n",
    "lr_pipeline = Pipeline(steps=[\n",
    "    (\"preprocessor\", input_value), \n",
    "    (\"lr\", lr_model)    \n",
    "])\n",
    "\n",
    "# fit the model\n",
    "lr_pipeline.fit(X_train, y_train)\n",
    "\n",
    "# prediction of values of test data\n",
    "lr_y_pred = lr_pipeline.predict(X_test)\n",
    "# prediction of values of training data\n",
    "lr_y_pred_train = lr_pipeline.predict(X_train)\n",
    "\n",
    "#mean absolute error of training data\n",
    "lr_mae_train = mean_absolute_error(y_train, lr_y_pred_train)\n",
    "\n",
    "# mean absolute error of test data\n",
    "lr_mae = mean_absolute_error(y_test, lr_y_pred)\n",
    "\n",
    "# r2 score\n",
    "lr_r2 = r2_score(y_test, lr_y_pred)\n",
    "\n",
    "print(\"MAE Linear Regression of training data: \", lr_mae_train)\n",
    "print(\"MAE Linear Regression: \", lr_mae)\n",
    "print(\"r2 Linear Regression: \", lr_r2)"
   ]
  },
  {
   "cell_type": "markdown",
   "id": "2ba567bd",
   "metadata": {},
   "source": [
    "# The r2 score tells the amount of variation of dependent variable that can be explained by independent variable. In our model, the r2 score value is 0.3932531564203602 which indicated that approximately 39 percent of variation can be explained in salaries can be explained by other input values."
   ]
  },
  {
   "cell_type": "markdown",
   "id": "76a62f43",
   "metadata": {},
   "source": [
    "# The Mean absolute error value gives the absolute difference between actual and predicted value. I have taken out the MAE of training and testing data to draw down the comparison. The MAE is slightly higher."
   ]
  },
  {
   "cell_type": "markdown",
   "id": "581f7ea6",
   "metadata": {},
   "source": [
    "# We can conclude that there is lower accuracy of regression model. Hence the factors has limited influence on the salaries of people."
   ]
  },
  {
   "cell_type": "code",
   "execution_count": 241,
   "id": "cc51b296",
   "metadata": {},
   "outputs": [
    {
     "name": "stdout",
     "output_type": "stream",
     "text": [
      "Best parameters:  {'lr__fit_intercept': True, 'lr__normalize': False}\n",
      "Crossvalidation score:  0.3932000864116648\n"
     ]
    }
   ],
   "source": [
    "#GridSearchCV helps to  train the model multiple times on different parameters specified. \n",
    "#We can test our model with each parameter and find the best value to get accurate results.\n",
    "from sklearn.model_selection import GridSearchCV\n",
    "\n",
    "lr_param_grid = {\n",
    "    \"lr__normalize\": [True, False],\n",
    "    \"lr__fit_intercept\": [True, False]\n",
    "}\n",
    "\n",
    "#create Gridsearch object\n",
    "lr_grid_search = GridSearchCV(lr_pipeline, lr_param_grid, cv=5)\n",
    "\n",
    "# Fit the new GridSearchCV object on the training data\n",
    "lr_grid_search.fit(X_train, y_train)\n",
    "\n",
    "# Print the best parameters and the validation set score\n",
    "print(\"Best parameters: \", lr_grid_search.best_params_)\n",
    "print(\"Crossvalidation score: \", lr_grid_search.best_score_)"
   ]
  },
  {
   "cell_type": "code",
   "execution_count": 242,
   "id": "d18bbdf5",
   "metadata": {},
   "outputs": [
    {
     "name": "stdout",
     "output_type": "stream",
     "text": [
      "Validation Score:  0.3932531564203602\n"
     ]
    }
   ],
   "source": [
    "# get the score for the test data\n",
    "lr_valid_score = lr_grid_search.score(X_test,y_test)\n",
    "\n",
    "# print score\n",
    "print(\"Validation Score: \", lr_valid_score)"
   ]
  },
  {
   "cell_type": "code",
   "execution_count": 243,
   "id": "395d776d",
   "metadata": {},
   "outputs": [
    {
     "data": {
      "text/html": [
       "<div>\n",
       "<style scoped>\n",
       "    .dataframe tbody tr th:only-of-type {\n",
       "        vertical-align: middle;\n",
       "    }\n",
       "\n",
       "    .dataframe tbody tr th {\n",
       "        vertical-align: top;\n",
       "    }\n",
       "\n",
       "    .dataframe thead th {\n",
       "        text-align: right;\n",
       "    }\n",
       "</style>\n",
       "<table border=\"1\" class=\"dataframe\">\n",
       "  <thead>\n",
       "    <tr style=\"text-align: right;\">\n",
       "      <th></th>\n",
       "      <th>work_year</th>\n",
       "      <th>salary</th>\n",
       "      <th>salary_in_usd</th>\n",
       "      <th>remote_ratio</th>\n",
       "      <th>experience_level_Entry level</th>\n",
       "      <th>experience_level_Executive level</th>\n",
       "      <th>experience_level_Mid/Intermediate level</th>\n",
       "      <th>experience_level_Senior</th>\n",
       "      <th>job_title_3D Computer Vision Researcher</th>\n",
       "      <th>job_title_AI Developer</th>\n",
       "      <th>...</th>\n",
       "      <th>salary_currency_PLN</th>\n",
       "      <th>salary_currency_SGD</th>\n",
       "      <th>salary_currency_THB</th>\n",
       "      <th>salary_currency_TRY</th>\n",
       "      <th>salary_currency_USD</th>\n",
       "      <th>company_location_0</th>\n",
       "      <th>company_location_1</th>\n",
       "      <th>company_size_LARGE</th>\n",
       "      <th>company_size_MEDIUM</th>\n",
       "      <th>company_size_SMALL</th>\n",
       "    </tr>\n",
       "  </thead>\n",
       "  <tbody>\n",
       "    <tr>\n",
       "      <th>0</th>\n",
       "      <td>2023</td>\n",
       "      <td>80000</td>\n",
       "      <td>85847</td>\n",
       "      <td>100</td>\n",
       "      <td>0</td>\n",
       "      <td>0</td>\n",
       "      <td>0</td>\n",
       "      <td>1</td>\n",
       "      <td>0</td>\n",
       "      <td>0</td>\n",
       "      <td>...</td>\n",
       "      <td>0</td>\n",
       "      <td>0</td>\n",
       "      <td>0</td>\n",
       "      <td>0</td>\n",
       "      <td>0</td>\n",
       "      <td>1</td>\n",
       "      <td>0</td>\n",
       "      <td>1</td>\n",
       "      <td>0</td>\n",
       "      <td>0</td>\n",
       "    </tr>\n",
       "    <tr>\n",
       "      <th>1</th>\n",
       "      <td>2023</td>\n",
       "      <td>30000</td>\n",
       "      <td>30000</td>\n",
       "      <td>100</td>\n",
       "      <td>0</td>\n",
       "      <td>0</td>\n",
       "      <td>1</td>\n",
       "      <td>0</td>\n",
       "      <td>0</td>\n",
       "      <td>0</td>\n",
       "      <td>...</td>\n",
       "      <td>0</td>\n",
       "      <td>0</td>\n",
       "      <td>0</td>\n",
       "      <td>0</td>\n",
       "      <td>1</td>\n",
       "      <td>0</td>\n",
       "      <td>1</td>\n",
       "      <td>0</td>\n",
       "      <td>0</td>\n",
       "      <td>1</td>\n",
       "    </tr>\n",
       "    <tr>\n",
       "      <th>2</th>\n",
       "      <td>2023</td>\n",
       "      <td>25500</td>\n",
       "      <td>25500</td>\n",
       "      <td>100</td>\n",
       "      <td>0</td>\n",
       "      <td>0</td>\n",
       "      <td>1</td>\n",
       "      <td>0</td>\n",
       "      <td>0</td>\n",
       "      <td>0</td>\n",
       "      <td>...</td>\n",
       "      <td>0</td>\n",
       "      <td>0</td>\n",
       "      <td>0</td>\n",
       "      <td>0</td>\n",
       "      <td>1</td>\n",
       "      <td>0</td>\n",
       "      <td>1</td>\n",
       "      <td>0</td>\n",
       "      <td>0</td>\n",
       "      <td>1</td>\n",
       "    </tr>\n",
       "    <tr>\n",
       "      <th>3</th>\n",
       "      <td>2023</td>\n",
       "      <td>175000</td>\n",
       "      <td>175000</td>\n",
       "      <td>100</td>\n",
       "      <td>0</td>\n",
       "      <td>0</td>\n",
       "      <td>0</td>\n",
       "      <td>1</td>\n",
       "      <td>0</td>\n",
       "      <td>0</td>\n",
       "      <td>...</td>\n",
       "      <td>0</td>\n",
       "      <td>0</td>\n",
       "      <td>0</td>\n",
       "      <td>0</td>\n",
       "      <td>1</td>\n",
       "      <td>1</td>\n",
       "      <td>0</td>\n",
       "      <td>0</td>\n",
       "      <td>1</td>\n",
       "      <td>0</td>\n",
       "    </tr>\n",
       "    <tr>\n",
       "      <th>4</th>\n",
       "      <td>2023</td>\n",
       "      <td>120000</td>\n",
       "      <td>120000</td>\n",
       "      <td>100</td>\n",
       "      <td>0</td>\n",
       "      <td>0</td>\n",
       "      <td>0</td>\n",
       "      <td>1</td>\n",
       "      <td>0</td>\n",
       "      <td>0</td>\n",
       "      <td>...</td>\n",
       "      <td>0</td>\n",
       "      <td>0</td>\n",
       "      <td>0</td>\n",
       "      <td>0</td>\n",
       "      <td>1</td>\n",
       "      <td>1</td>\n",
       "      <td>0</td>\n",
       "      <td>0</td>\n",
       "      <td>1</td>\n",
       "      <td>0</td>\n",
       "    </tr>\n",
       "    <tr>\n",
       "      <th>...</th>\n",
       "      <td>...</td>\n",
       "      <td>...</td>\n",
       "      <td>...</td>\n",
       "      <td>...</td>\n",
       "      <td>...</td>\n",
       "      <td>...</td>\n",
       "      <td>...</td>\n",
       "      <td>...</td>\n",
       "      <td>...</td>\n",
       "      <td>...</td>\n",
       "      <td>...</td>\n",
       "      <td>...</td>\n",
       "      <td>...</td>\n",
       "      <td>...</td>\n",
       "      <td>...</td>\n",
       "      <td>...</td>\n",
       "      <td>...</td>\n",
       "      <td>...</td>\n",
       "      <td>...</td>\n",
       "      <td>...</td>\n",
       "      <td>...</td>\n",
       "    </tr>\n",
       "    <tr>\n",
       "      <th>3750</th>\n",
       "      <td>2020</td>\n",
       "      <td>412000</td>\n",
       "      <td>412000</td>\n",
       "      <td>100</td>\n",
       "      <td>0</td>\n",
       "      <td>0</td>\n",
       "      <td>0</td>\n",
       "      <td>1</td>\n",
       "      <td>0</td>\n",
       "      <td>0</td>\n",
       "      <td>...</td>\n",
       "      <td>0</td>\n",
       "      <td>0</td>\n",
       "      <td>0</td>\n",
       "      <td>0</td>\n",
       "      <td>1</td>\n",
       "      <td>0</td>\n",
       "      <td>1</td>\n",
       "      <td>1</td>\n",
       "      <td>0</td>\n",
       "      <td>0</td>\n",
       "    </tr>\n",
       "    <tr>\n",
       "      <th>3751</th>\n",
       "      <td>2021</td>\n",
       "      <td>151000</td>\n",
       "      <td>151000</td>\n",
       "      <td>100</td>\n",
       "      <td>0</td>\n",
       "      <td>0</td>\n",
       "      <td>1</td>\n",
       "      <td>0</td>\n",
       "      <td>0</td>\n",
       "      <td>0</td>\n",
       "      <td>...</td>\n",
       "      <td>0</td>\n",
       "      <td>0</td>\n",
       "      <td>0</td>\n",
       "      <td>0</td>\n",
       "      <td>1</td>\n",
       "      <td>0</td>\n",
       "      <td>1</td>\n",
       "      <td>1</td>\n",
       "      <td>0</td>\n",
       "      <td>0</td>\n",
       "    </tr>\n",
       "    <tr>\n",
       "      <th>3752</th>\n",
       "      <td>2020</td>\n",
       "      <td>105000</td>\n",
       "      <td>105000</td>\n",
       "      <td>100</td>\n",
       "      <td>1</td>\n",
       "      <td>0</td>\n",
       "      <td>0</td>\n",
       "      <td>0</td>\n",
       "      <td>0</td>\n",
       "      <td>0</td>\n",
       "      <td>...</td>\n",
       "      <td>0</td>\n",
       "      <td>0</td>\n",
       "      <td>0</td>\n",
       "      <td>0</td>\n",
       "      <td>1</td>\n",
       "      <td>0</td>\n",
       "      <td>1</td>\n",
       "      <td>0</td>\n",
       "      <td>0</td>\n",
       "      <td>1</td>\n",
       "    </tr>\n",
       "    <tr>\n",
       "      <th>3753</th>\n",
       "      <td>2020</td>\n",
       "      <td>100000</td>\n",
       "      <td>100000</td>\n",
       "      <td>100</td>\n",
       "      <td>1</td>\n",
       "      <td>0</td>\n",
       "      <td>0</td>\n",
       "      <td>0</td>\n",
       "      <td>0</td>\n",
       "      <td>0</td>\n",
       "      <td>...</td>\n",
       "      <td>0</td>\n",
       "      <td>0</td>\n",
       "      <td>0</td>\n",
       "      <td>0</td>\n",
       "      <td>1</td>\n",
       "      <td>0</td>\n",
       "      <td>1</td>\n",
       "      <td>1</td>\n",
       "      <td>0</td>\n",
       "      <td>0</td>\n",
       "    </tr>\n",
       "    <tr>\n",
       "      <th>3754</th>\n",
       "      <td>2021</td>\n",
       "      <td>7000000</td>\n",
       "      <td>94665</td>\n",
       "      <td>50</td>\n",
       "      <td>0</td>\n",
       "      <td>0</td>\n",
       "      <td>0</td>\n",
       "      <td>1</td>\n",
       "      <td>0</td>\n",
       "      <td>0</td>\n",
       "      <td>...</td>\n",
       "      <td>0</td>\n",
       "      <td>0</td>\n",
       "      <td>0</td>\n",
       "      <td>0</td>\n",
       "      <td>0</td>\n",
       "      <td>1</td>\n",
       "      <td>0</td>\n",
       "      <td>1</td>\n",
       "      <td>0</td>\n",
       "      <td>0</td>\n",
       "    </tr>\n",
       "  </tbody>\n",
       "</table>\n",
       "<p>3755 rows × 208 columns</p>\n",
       "</div>"
      ],
      "text/plain": [
       "      work_year   salary  salary_in_usd  remote_ratio  \\\n",
       "0          2023    80000          85847           100   \n",
       "1          2023    30000          30000           100   \n",
       "2          2023    25500          25500           100   \n",
       "3          2023   175000         175000           100   \n",
       "4          2023   120000         120000           100   \n",
       "...         ...      ...            ...           ...   \n",
       "3750       2020   412000         412000           100   \n",
       "3751       2021   151000         151000           100   \n",
       "3752       2020   105000         105000           100   \n",
       "3753       2020   100000         100000           100   \n",
       "3754       2021  7000000          94665            50   \n",
       "\n",
       "      experience_level_Entry level  experience_level_Executive level  \\\n",
       "0                                0                                 0   \n",
       "1                                0                                 0   \n",
       "2                                0                                 0   \n",
       "3                                0                                 0   \n",
       "4                                0                                 0   \n",
       "...                            ...                               ...   \n",
       "3750                             0                                 0   \n",
       "3751                             0                                 0   \n",
       "3752                             1                                 0   \n",
       "3753                             1                                 0   \n",
       "3754                             0                                 0   \n",
       "\n",
       "      experience_level_Mid/Intermediate level  experience_level_Senior  \\\n",
       "0                                           0                        1   \n",
       "1                                           1                        0   \n",
       "2                                           1                        0   \n",
       "3                                           0                        1   \n",
       "4                                           0                        1   \n",
       "...                                       ...                      ...   \n",
       "3750                                        0                        1   \n",
       "3751                                        1                        0   \n",
       "3752                                        0                        0   \n",
       "3753                                        0                        0   \n",
       "3754                                        0                        1   \n",
       "\n",
       "      job_title_3D Computer Vision Researcher  job_title_AI Developer  ...  \\\n",
       "0                                           0                       0  ...   \n",
       "1                                           0                       0  ...   \n",
       "2                                           0                       0  ...   \n",
       "3                                           0                       0  ...   \n",
       "4                                           0                       0  ...   \n",
       "...                                       ...                     ...  ...   \n",
       "3750                                        0                       0  ...   \n",
       "3751                                        0                       0  ...   \n",
       "3752                                        0                       0  ...   \n",
       "3753                                        0                       0  ...   \n",
       "3754                                        0                       0  ...   \n",
       "\n",
       "      salary_currency_PLN  salary_currency_SGD  salary_currency_THB  \\\n",
       "0                       0                    0                    0   \n",
       "1                       0                    0                    0   \n",
       "2                       0                    0                    0   \n",
       "3                       0                    0                    0   \n",
       "4                       0                    0                    0   \n",
       "...                   ...                  ...                  ...   \n",
       "3750                    0                    0                    0   \n",
       "3751                    0                    0                    0   \n",
       "3752                    0                    0                    0   \n",
       "3753                    0                    0                    0   \n",
       "3754                    0                    0                    0   \n",
       "\n",
       "      salary_currency_TRY  salary_currency_USD  company_location_0  \\\n",
       "0                       0                    0                   1   \n",
       "1                       0                    1                   0   \n",
       "2                       0                    1                   0   \n",
       "3                       0                    1                   1   \n",
       "4                       0                    1                   1   \n",
       "...                   ...                  ...                 ...   \n",
       "3750                    0                    1                   0   \n",
       "3751                    0                    1                   0   \n",
       "3752                    0                    1                   0   \n",
       "3753                    0                    1                   0   \n",
       "3754                    0                    0                   1   \n",
       "\n",
       "      company_location_1  company_size_LARGE  company_size_MEDIUM  \\\n",
       "0                      0                   1                    0   \n",
       "1                      1                   0                    0   \n",
       "2                      1                   0                    0   \n",
       "3                      0                   0                    1   \n",
       "4                      0                   0                    1   \n",
       "...                  ...                 ...                  ...   \n",
       "3750                   1                   1                    0   \n",
       "3751                   1                   1                    0   \n",
       "3752                   1                   0                    0   \n",
       "3753                   1                   1                    0   \n",
       "3754                   0                   1                    0   \n",
       "\n",
       "      company_size_SMALL  \n",
       "0                      0  \n",
       "1                      1  \n",
       "2                      1  \n",
       "3                      0  \n",
       "4                      0  \n",
       "...                  ...  \n",
       "3750                   0  \n",
       "3751                   0  \n",
       "3752                   1  \n",
       "3753                   0  \n",
       "3754                   0  \n",
       "\n",
       "[3755 rows x 208 columns]"
      ]
     },
     "execution_count": 243,
     "metadata": {},
     "output_type": "execute_result"
    }
   ],
   "source": [
    "#convert the categorical into numerical value to feed into the model\n",
    "one_hot_encoded = pd.get_dummies(Data, columns=['experience_level',\"job_title\", 'employment_type', 'employee_residence', \"salary_currency\",'company_location',\"company_size\"])\n",
    "one_hot_encoded"
   ]
  },
  {
   "cell_type": "markdown",
   "id": "5d3063e3",
   "metadata": {},
   "source": [
    "One hot encoded converts the categorical variables into numberical values that can be an input into ML models to improve prediction accuracy. "
   ]
  },
  {
   "cell_type": "code",
   "execution_count": 245,
   "id": "15c41fd8",
   "metadata": {},
   "outputs": [],
   "source": [
    "# create X and y to divide the dataset into training and testing to convert string to float for input for KNN model\n",
    "\n",
    "\n",
    "X = one_hot_encoded.drop(\"salary_in_usd\", axis=1)\n",
    "X.head()\n",
    "y = one_hot_encoded['salary_in_usd'].values\n",
    "\n",
    "X_train, X_test, y_train, y_test = train_test_split(X, y,\n",
    "                                                    test_size=0.2,\n",
    "                                                    random_state=42,\n",
    "                                                    shuffle=True)"
   ]
  },
  {
   "cell_type": "markdown",
   "id": "3b647d7c",
   "metadata": {},
   "source": [
    "K Nearest Neighbor make use of closest distance to make predictions about the grouping"
   ]
  },
  {
   "cell_type": "code",
   "execution_count": 251,
   "id": "94046578",
   "metadata": {},
   "outputs": [
    {
     "data": {
      "text/plain": [
       "KNeighborsRegressor()"
      ]
     },
     "execution_count": 251,
     "metadata": {},
     "output_type": "execute_result"
    }
   ],
   "source": [
    "from sklearn.neighbors import KNeighborsRegressor\n",
    "\n",
    "reg_knn = KNeighborsRegressor(n_neighbors=5)\n",
    "reg_knn.fit(X_train, y_train)"
   ]
  },
  {
   "cell_type": "code",
   "execution_count": 252,
   "id": "12daef02",
   "metadata": {},
   "outputs": [
    {
     "data": {
      "text/plain": [
       "0.9154274775435619"
      ]
     },
     "execution_count": 252,
     "metadata": {},
     "output_type": "execute_result"
    }
   ],
   "source": [
    "#check accuracy of our model on the test data\n",
    "reg_knn.score(X_test, y_test)"
   ]
  },
  {
   "cell_type": "code",
   "execution_count": 253,
   "id": "b8d546a0",
   "metadata": {},
   "outputs": [
    {
     "data": {
      "text/plain": [
       "{'n_neighbors': 9}"
      ]
     },
     "execution_count": 253,
     "metadata": {},
     "output_type": "execute_result"
    }
   ],
   "source": [
    "from sklearn.model_selection import GridSearchCV\n",
    "params = {'n_neighbors':[2,3,4,5,6,7,8,9]}\n",
    "\n",
    "knn = KNeighborsRegressor()\n",
    "\n",
    "model = GridSearchCV(knn, params, cv=5)\n",
    "model.fit(X_train,y_train)\n",
    "model.best_params_"
   ]
  },
  {
   "cell_type": "markdown",
   "id": "6f5a0dec",
   "metadata": {},
   "source": [
    "Once the model is fit, we can find the optimal parameter of K using GridSearchCV. We can see that the best value of K is 9."
   ]
  },
  {
   "cell_type": "code",
   "execution_count": 256,
   "id": "9edd1221",
   "metadata": {},
   "outputs": [
    {
     "name": "stdout",
     "output_type": "stream",
     "text": [
      "the mean abs error of the model is 2538.1623169107856\n",
      "the root mean squared error of the model is 15495.91214751626\n",
      "the mean abs error of the model is 3266.7323568575234\n",
      "the root mean squared error of the model is 18272.23425066309\n",
      "the r2 score of the model is 0.9154274775435619\n"
     ]
    }
   ],
   "source": [
    "from sklearn.metrics import r2_score\n",
    "\n",
    "def mean_abs_error(y, preds):\n",
    "    return np.mean(np.abs(y - preds))\n",
    "\n",
    "def root_mean_squared_error(y, preds):\n",
    "    return np.sqrt(np.mean(np.square(y - preds)))\n",
    "#Checking the accuracy predictors \n",
    "reg_knn_preds = reg_knn.predict(X_test)\n",
    "#test data mae\n",
    "mae = mean_abs_error(y_test, reg_knn_preds)\n",
    "#test data rmse\n",
    "rmse = root_mean_squared_error(y_test, reg_knn_preds)\n",
    "#test data r2 score \n",
    "r2score = r2_score(y_test, reg_knn_preds)\n",
    "#train data \n",
    "reg_knn_preds_train = reg_knn.predict(X_train)\n",
    "mae_train = mean_abs_error(y_train, reg_knn_preds_train)\n",
    "rmse_train = root_mean_squared_error(y_train, reg_knn_preds_train)\n",
    "\n",
    "print(\"the mean abs error of the model is {}\".format(mae_train))\n",
    "print(\"the root mean squared error of the model is {}\".format(rmse_train))\n",
    "print(\"the mean abs error of the model is {}\".format(mae))\n",
    "print(\"the root mean squared error of the model is {}\".format(rmse))\n",
    "print(\"the r2 score of the model is {}\".format(r2score))\n"
   ]
  },
  {
   "cell_type": "markdown",
   "id": "78d66766",
   "metadata": {},
   "source": [
    "The r2 score value is 0.9154274775435619 which indicated that approximately 91.5 percent of variation can be explained in salaries can be explained by other input values. The difference between train and test model rmse and mae is less which suggests it is a good model.\n",
    "It can be concluded it is a good model for prediction and salaries can be predicted from the indepenedent variables\n"
   ]
  },
  {
   "cell_type": "code",
   "execution_count": null,
   "id": "8634b161",
   "metadata": {},
   "outputs": [],
   "source": []
  }
 ],
 "metadata": {
  "kernelspec": {
   "display_name": "Python 3 (ipykernel)",
   "language": "python",
   "name": "python3"
  },
  "language_info": {
   "codemirror_mode": {
    "name": "ipython",
    "version": 3
   },
   "file_extension": ".py",
   "mimetype": "text/x-python",
   "name": "python",
   "nbconvert_exporter": "python",
   "pygments_lexer": "ipython3",
   "version": "3.9.12"
  }
 },
 "nbformat": 4,
 "nbformat_minor": 5
}
